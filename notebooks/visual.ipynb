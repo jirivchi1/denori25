{
 "cells": [
  {
   "cell_type": "code",
   "execution_count": 2,
   "metadata": {},
   "outputs": [
    {
     "name": "stdout",
     "output_type": "stream",
     "text": [
      "Collecting pandas\n",
      "  Downloading pandas-2.2.3-cp310-cp310-win_amd64.whl (11.6 MB)\n",
      "     ---------------------------------------- 0.0/11.6 MB ? eta -:--:--\n",
      "     ---------------------------------------- 0.1/11.6 MB 2.6 MB/s eta 0:00:05\n",
      "     -- ------------------------------------- 0.7/11.6 MB 7.5 MB/s eta 0:00:02\n",
      "     ------------ --------------------------- 3.6/11.6 MB 25.3 MB/s eta 0:00:01\n",
      "     -------------- ------------------------- 4.3/11.6 MB 25.2 MB/s eta 0:00:01\n",
      "     ------------------------- -------------- 7.5/11.6 MB 34.0 MB/s eta 0:00:01\n",
      "     ----------------------------------- --- 10.5/11.6 MB 46.9 MB/s eta 0:00:01\n",
      "     --------------------------------------  11.6/11.6 MB 54.7 MB/s eta 0:00:01\n",
      "     --------------------------------------- 11.6/11.6 MB 43.7 MB/s eta 0:00:00\n",
      "Collecting numpy>=1.22.4\n",
      "  Downloading numpy-2.2.1-cp310-cp310-win_amd64.whl (12.9 MB)\n",
      "     ---------------------------------------- 0.0/12.9 MB ? eta -:--:--\n",
      "     ------- -------------------------------- 2.4/12.9 MB 51.0 MB/s eta 0:00:01\n",
      "     ---------- ----------------------------- 3.5/12.9 MB 54.9 MB/s eta 0:00:01\n",
      "     ------------------- -------------------- 6.4/12.9 MB 45.2 MB/s eta 0:00:01\n",
      "     -------------------------- ------------- 8.4/12.9 MB 44.9 MB/s eta 0:00:01\n",
      "     ------------------------------- ------- 10.4/12.9 MB 46.9 MB/s eta 0:00:01\n",
      "     ------------------------------------- - 12.4/12.9 MB 43.7 MB/s eta 0:00:01\n",
      "     --------------------------------------  12.9/12.9 MB 40.9 MB/s eta 0:00:01\n",
      "     --------------------------------------- 12.9/12.9 MB 36.4 MB/s eta 0:00:00\n",
      "Collecting tzdata>=2022.7\n",
      "  Using cached tzdata-2024.2-py2.py3-none-any.whl (346 kB)\n",
      "Requirement already satisfied: python-dateutil>=2.8.2 in c:\\users\\usuario\\appdata\\local\\packages\\pythonsoftwarefoundation.python.3.10_qbz5n2kfra8p0\\localcache\\local-packages\\python310\\site-packages (from pandas) (2.9.0.post0)\n",
      "Collecting pytz>=2020.1\n",
      "  Downloading pytz-2024.2-py2.py3-none-any.whl (508 kB)\n",
      "     ---------------------------------------- 0.0/508.0 kB ? eta -:--:--\n",
      "     ------------------------------------- 508.0/508.0 kB 31.1 MB/s eta 0:00:00\n",
      "Requirement already satisfied: six>=1.5 in c:\\users\\usuario\\appdata\\local\\packages\\pythonsoftwarefoundation.python.3.10_qbz5n2kfra8p0\\localcache\\local-packages\\python310\\site-packages (from python-dateutil>=2.8.2->pandas) (1.16.0)\n",
      "Installing collected packages: pytz, tzdata, numpy, pandas\n",
      "Successfully installed numpy-2.2.1 pandas-2.2.3 pytz-2024.2 tzdata-2024.2\n"
     ]
    },
    {
     "name": "stderr",
     "output_type": "stream",
     "text": [
      "\n",
      "[notice] A new release of pip is available: 23.0.1 -> 24.3.1\n",
      "[notice] To update, run: C:\\Users\\Usuario\\AppData\\Local\\Microsoft\\WindowsApps\\PythonSoftwareFoundation.Python.3.10_qbz5n2kfra8p0\\python.exe -m pip install --upgrade pip\n"
     ]
    }
   ],
   "source": [
    "!pip install pandas"
   ]
  },
  {
   "cell_type": "code",
   "execution_count": 6,
   "metadata": {},
   "outputs": [
    {
     "name": "stdout",
     "output_type": "stream",
     "text": [
      "       Pressure_1  Pressure_2  Pressure_3  Pressure_4  Pressure_5  Pressure_6  \\\n",
      "Time                                                                            \n",
      "0      127.540733  119.257309  117.021255  118.669029  117.661156  118.758156   \n",
      "3600   128.589630  120.450287  118.349403  119.991386  118.940742  120.073395   \n",
      "7200   129.247437  121.198540  119.633965  120.911827  119.347176  120.823952   \n",
      "10800  129.957397  122.006218  120.531189  121.804001  120.212692  121.709061   \n",
      "14400  130.280777  122.374138  121.398788  122.226273  120.128510  121.882629   \n",
      "\n",
      "       Pressure_7  Pressure_8  Pressure_9  Pressure_10  ...  LinkQuality_4  \\\n",
      "Time                                                    ...                  \n",
      "0      120.736969  115.860779  110.790184            0  ...       0.500000   \n",
      "3600   122.054451  117.148544  112.089508            0  ...       0.419133   \n",
      "7200   122.783981  117.007317  111.888962            0  ...       0.358653   \n",
      "10800  123.670708  117.877220  112.764526            0  ...       0.468910   \n",
      "14400  123.820656  117.128181  111.892052            0  ...       0.578163   \n",
      "\n",
      "       LinkQuality_5  LinkQuality_6  LinkQuality_7  LinkQuality_8  \\\n",
      "Time                                                                \n",
      "0           0.500000       0.500000       0.500000       0.500000   \n",
      "3600        0.441925       0.393094       0.438236       0.432566   \n",
      "7200        0.387794       0.312356       0.787286       0.807657   \n",
      "10800       0.337623       0.252347       0.783904       0.808483   \n",
      "14400       0.310474       0.263960       0.782736       0.807484   \n",
      "\n",
      "       LinkQuality_9  LinkQuality_10  LinkQuality_11  LinkQuality_12  \\\n",
      "Time                                                                   \n",
      "0           0.500000        0.500000        0.500000        0.500000   \n",
      "3600        0.436940        0.434882        0.405300        0.393056   \n",
      "7200        0.408537        0.376979        0.345212        0.326437   \n",
      "10800       0.584498        0.315567        0.562684        0.286600   \n",
      "14400       0.697580        0.269564        0.645062        0.292807   \n",
      "\n",
      "       LinkQuality_13  \n",
      "Time                   \n",
      "0                0.75  \n",
      "3600             1.00  \n",
      "7200             1.00  \n",
      "10800            1.00  \n",
      "14400            1.00  \n",
      "\n",
      "[5 rows x 148 columns]\n"
     ]
    }
   ],
   "source": [
    "import pandas as pd\n",
    "\n",
    "# Ruta al archivo CSV original\n",
    "\n",
    "original_data_path = 'C:/Users/Usuario/Documents/2025/denori/denori25\\data/raw/epanet.csv'\n",
    "\n",
    "# Cargar los datos\n",
    "df = pd.read_csv(original_data_path, index_col=0)\n",
    "\n",
    "# Mostrar las primeras filas\n",
    "print(df.head())\n"
   ]
  },
  {
   "cell_type": "code",
   "execution_count": 8,
   "metadata": {},
   "outputs": [
    {
     "data": {
      "text/plain": [
       "Index(['Pressure_1', 'Pressure_2', 'Pressure_3', 'Pressure_4', 'Pressure_5',\n",
       "       'Pressure_6', 'Pressure_7', 'Pressure_8', 'Pressure_9', 'Pressure_10',\n",
       "       ...\n",
       "       'LinkQuality_4', 'LinkQuality_5', 'LinkQuality_6', 'LinkQuality_7',\n",
       "       'LinkQuality_8', 'LinkQuality_9', 'LinkQuality_10', 'LinkQuality_11',\n",
       "       'LinkQuality_12', 'LinkQuality_13'],\n",
       "      dtype='object', length=148)"
      ]
     },
     "execution_count": 8,
     "metadata": {},
     "output_type": "execute_result"
    }
   ],
   "source": [
    "df.columns"
   ]
  }
 ],
 "metadata": {
  "kernelspec": {
   "display_name": "Python 3",
   "language": "python",
   "name": "python3"
  },
  "language_info": {
   "codemirror_mode": {
    "name": "ipython",
    "version": 3
   },
   "file_extension": ".py",
   "mimetype": "text/x-python",
   "name": "python",
   "nbconvert_exporter": "python",
   "pygments_lexer": "ipython3",
   "version": "3.10.11"
  }
 },
 "nbformat": 4,
 "nbformat_minor": 2
}
